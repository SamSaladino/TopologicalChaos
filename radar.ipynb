{
 "cells": [
  {
   "cell_type": "code",
   "execution_count": 1,
   "id": "7ad36127",
   "metadata": {},
   "outputs": [
    {
     "name": "stdout",
     "output_type": "stream",
     "text": [
      "/home/scostagonza/Documents/Hackathlon/TopologicalChaos\n"
     ]
    }
   ],
   "source": [
    "from PIL import Image\n",
    "import pytesseract\n",
    "import pandas as pd\n",
    "import numpy as np\n",
    "from matplotlib import pyplot as plt\n",
    "import seaborn as sns\n",
    "!pwd"
   ]
  },
  {
   "cell_type": "code",
   "execution_count": 2,
   "id": "22567d24",
   "metadata": {},
   "outputs": [],
   "source": [
    "image_path = \"/home/scostagonza/Documents/Hackathlon/TopologicalChaos/data/raw/Screenshot from 2025-06-18 10-02-56.png\"\n",
    "image = Image.open(image_path)"
   ]
  },
  {
   "cell_type": "code",
   "execution_count": 3,
   "id": "bf2811e2",
   "metadata": {},
   "outputs": [],
   "source": [
    "# Use OCR to extract the table from the image\n",
    "ocr_text = pytesseract.image_to_string(image)"
   ]
  },
  {
   "cell_type": "code",
   "execution_count": 4,
   "id": "35ba3214",
   "metadata": {},
   "outputs": [
    {
     "data": {
      "text/plain": [
       "'amin acide and entices 07323\\n\\nleoneneide sees?\\n\\nPrentorpanate oscesr\\nPhoeoate ester 1200000\\n\\n‘Tielabeerte 0500000\\n‘yptephenaltalede 1200000\\n\\n'"
      ]
     },
     "execution_count": 4,
     "metadata": {},
     "output_type": "execute_result"
    }
   ],
   "source": [
    "# Display the extracted text for verification\n",
    "ocr_text[:1000] "
   ]
  },
  {
   "cell_type": "code",
   "execution_count": 5,
   "id": "498f75ac",
   "metadata": {},
   "outputs": [
    {
     "data": {
      "text/plain": [
       "'nin ose\\n‘Acstolzendpooe 00000 eaocono oGose58 aoDo000|\\namin acideand peptides 075083 0533233 34607 onzeee?\\n‘ewoniicndie 1co0000 006009 aot000 asc0009\\nDiaylether 1.00000 aceon 202660 aos0%00\\namy aldehydes 1200000 1.0000 000000 0300000\\nctyeroposphecolnes 0750000 0330000 aco000 0250000,\\neeroqciccompounds 500099 020500. 1.00020 aceon\\nNeomeneide sees? cocoa 923083 a22223\\nMonoradvlaeerale 1.000000 056009 aot000 ooo\\nCfsorccarider 500000 1020500 e020 200009\\n‘orsniephosohaicaite c00000 006609 00000 sso\\n‘orsmontosen compounds 02000 a00009 9000080 00000,\\n‘orsmorufer compounds 1205000 000000 @eoo00 1000500\\nPheniorpanaide ocssusr oscessT ossss56 catusee\\nPhoeshte ester: 1200000 1.000009 205000 ao00%00\\nPrine altnloide 810162 oatsis2 oxeneie osestss\\nPrrimides 0761708 306025 0725704 ossem35\\nrmrobdones 200000 1.00000 een090 onzosc0\\nCuinonesandtvdroqinner 600000 006509 s.o0000 coco\\n‘Tilabeerte 0c0000 020500 acooo20 0 sc0009\\n‘epteghanaltaleide 1200000 0400009 408000 as00000\\n'"
      ]
     },
     "execution_count": 5,
     "metadata": {},
     "output_type": "execute_result"
    }
   ],
   "source": [
    "# Try using OCR with configuration to improve table extraction\n",
    "custom_config = r'--psm 6'  # Assume a single uniform block of text\n",
    "ocr_text_configured = pytesseract.image_to_string(image, config=custom_config)\n",
    "\n",
    "# Display the extracted text again\n",
    "ocr_text_configured[:1500]"
   ]
  },
  {
   "cell_type": "code",
   "execution_count": 6,
   "id": "5b4be1e6",
   "metadata": {},
   "outputs": [],
   "source": [
    "ocr_data = pytesseract.image_to_data(image, config=custom_config, output_type=pytesseract.Output.DATAFRAME)"
   ]
  },
  {
   "cell_type": "code",
   "execution_count": 7,
   "id": "3d4fe8d5",
   "metadata": {},
   "outputs": [],
   "source": [
    "ocr_data_cleaned = ocr_data[ocr_data.text.notnull() & (ocr_data.text != '')]"
   ]
  },
  {
   "cell_type": "code",
   "execution_count": 8,
   "id": "cc16e43f",
   "metadata": {},
   "outputs": [
    {
     "data": {
      "application/vnd.microsoft.datawrangler.viewer.v0+json": {
       "columns": [
        {
         "name": "index",
         "rawType": "int64",
         "type": "integer"
        },
        {
         "name": "level",
         "rawType": "int64",
         "type": "integer"
        },
        {
         "name": "page_num",
         "rawType": "int64",
         "type": "integer"
        },
        {
         "name": "block_num",
         "rawType": "int64",
         "type": "integer"
        },
        {
         "name": "par_num",
         "rawType": "int64",
         "type": "integer"
        },
        {
         "name": "line_num",
         "rawType": "int64",
         "type": "integer"
        },
        {
         "name": "word_num",
         "rawType": "int64",
         "type": "integer"
        },
        {
         "name": "left",
         "rawType": "int64",
         "type": "integer"
        },
        {
         "name": "top",
         "rawType": "int64",
         "type": "integer"
        },
        {
         "name": "width",
         "rawType": "int64",
         "type": "integer"
        },
        {
         "name": "height",
         "rawType": "int64",
         "type": "integer"
        },
        {
         "name": "conf",
         "rawType": "float64",
         "type": "float"
        },
        {
         "name": "text",
         "rawType": "object",
         "type": "string"
        }
       ],
       "ref": "8b4f4251-441f-4bc2-9aba-f807f2c2439f",
       "rows": [
        [
         "4",
         "5",
         "1",
         "1",
         "1",
         "1",
         "1",
         "75",
         "8",
         "21",
         "28",
         "36.625465",
         "nin"
        ],
        [
         "5",
         "5",
         "1",
         "1",
         "1",
         "1",
         "2",
         "103",
         "8",
         "19",
         "28",
         "40.57402",
         "ose"
        ],
        [
         "7",
         "5",
         "1",
         "1",
         "1",
         "2",
         "1",
         "43",
         "38",
         "75",
         "7",
         "0.0",
         "‘Acstolzendpooe"
        ],
        [
         "8",
         "5",
         "1",
         "1",
         "1",
         "2",
         "2",
         "127",
         "39",
         "32",
         "5",
         "11.79747",
         "00000"
        ],
        [
         "9",
         "5",
         "1",
         "1",
         "1",
         "2",
         "3",
         "166",
         "39",
         "33",
         "5",
         "0.0",
         "eaocono"
        ],
        [
         "10",
         "5",
         "1",
         "1",
         "1",
         "2",
         "4",
         "207",
         "39",
         "33",
         "5",
         "0.0",
         "oGose58"
        ],
        [
         "11",
         "5",
         "1",
         "1",
         "1",
         "2",
         "5",
         "248",
         "39",
         "32",
         "5",
         "0.0",
         "aoDo000|"
        ],
        [
         "13",
         "5",
         "1",
         "1",
         "1",
         "3",
         "1",
         "21",
         "77",
         "26",
         "28",
         "30.821548",
         "amin"
        ],
        [
         "14",
         "5",
         "1",
         "1",
         "1",
         "3",
         "2",
         "51",
         "77",
         "33",
         "28",
         "30.821548",
         "acideand"
        ],
        [
         "15",
         "5",
         "1",
         "1",
         "1",
         "3",
         "3",
         "86",
         "77",
         "33",
         "28",
         "33.398956",
         "peptides"
        ],
        [
         "16",
         "5",
         "1",
         "1",
         "1",
         "3",
         "4",
         "126",
         "90",
         "33",
         "5",
         "47.024158",
         "075083"
        ],
        [
         "17",
         "5",
         "1",
         "1",
         "1",
         "3",
         "5",
         "166",
         "90",
         "33",
         "5",
         "65.245117",
         "0533233"
        ],
        [
         "18",
         "5",
         "1",
         "1",
         "1",
         "3",
         "6",
         "207",
         "90",
         "33",
         "5",
         "0.0",
         "34607"
        ],
        [
         "19",
         "5",
         "1",
         "1",
         "1",
         "3",
         "7",
         "248",
         "90",
         "32",
         "5",
         "0.0",
         "onzeee?"
        ],
        [
         "21",
         "5",
         "1",
         "1",
         "1",
         "4",
         "1",
         "59",
         "223",
         "59",
         "7",
         "0.0",
         "‘ewoniicndie"
        ],
        [
         "22",
         "5",
         "1",
         "1",
         "1",
         "4",
         "2",
         "127",
         "224",
         "32",
         "5",
         "5.188438",
         "1co0000"
        ],
        [
         "23",
         "5",
         "1",
         "1",
         "1",
         "4",
         "3",
         "168",
         "224",
         "32",
         "5",
         "42.766361",
         "006009"
        ],
        [
         "24",
         "5",
         "1",
         "1",
         "1",
         "4",
         "4",
         "207",
         "224",
         "33",
         "5",
         "0.0",
         "aot000"
        ],
        [
         "25",
         "5",
         "1",
         "1",
         "1",
         "4",
         "5",
         "248",
         "224",
         "33",
         "5",
         "0.0",
         "asc0009"
        ],
        [
         "27",
         "5",
         "1",
         "1",
         "1",
         "5",
         "1",
         "73",
         "273",
         "45",
         "7",
         "0.0",
         "Diaylether"
        ]
       ],
       "shape": {
        "columns": 12,
        "rows": 20
       }
      },
      "text/html": [
       "<div>\n",
       "<style scoped>\n",
       "    .dataframe tbody tr th:only-of-type {\n",
       "        vertical-align: middle;\n",
       "    }\n",
       "\n",
       "    .dataframe tbody tr th {\n",
       "        vertical-align: top;\n",
       "    }\n",
       "\n",
       "    .dataframe thead th {\n",
       "        text-align: right;\n",
       "    }\n",
       "</style>\n",
       "<table border=\"1\" class=\"dataframe\">\n",
       "  <thead>\n",
       "    <tr style=\"text-align: right;\">\n",
       "      <th></th>\n",
       "      <th>level</th>\n",
       "      <th>page_num</th>\n",
       "      <th>block_num</th>\n",
       "      <th>par_num</th>\n",
       "      <th>line_num</th>\n",
       "      <th>word_num</th>\n",
       "      <th>left</th>\n",
       "      <th>top</th>\n",
       "      <th>width</th>\n",
       "      <th>height</th>\n",
       "      <th>conf</th>\n",
       "      <th>text</th>\n",
       "    </tr>\n",
       "  </thead>\n",
       "  <tbody>\n",
       "    <tr>\n",
       "      <th>4</th>\n",
       "      <td>5</td>\n",
       "      <td>1</td>\n",
       "      <td>1</td>\n",
       "      <td>1</td>\n",
       "      <td>1</td>\n",
       "      <td>1</td>\n",
       "      <td>75</td>\n",
       "      <td>8</td>\n",
       "      <td>21</td>\n",
       "      <td>28</td>\n",
       "      <td>36.625465</td>\n",
       "      <td>nin</td>\n",
       "    </tr>\n",
       "    <tr>\n",
       "      <th>5</th>\n",
       "      <td>5</td>\n",
       "      <td>1</td>\n",
       "      <td>1</td>\n",
       "      <td>1</td>\n",
       "      <td>1</td>\n",
       "      <td>2</td>\n",
       "      <td>103</td>\n",
       "      <td>8</td>\n",
       "      <td>19</td>\n",
       "      <td>28</td>\n",
       "      <td>40.574020</td>\n",
       "      <td>ose</td>\n",
       "    </tr>\n",
       "    <tr>\n",
       "      <th>7</th>\n",
       "      <td>5</td>\n",
       "      <td>1</td>\n",
       "      <td>1</td>\n",
       "      <td>1</td>\n",
       "      <td>2</td>\n",
       "      <td>1</td>\n",
       "      <td>43</td>\n",
       "      <td>38</td>\n",
       "      <td>75</td>\n",
       "      <td>7</td>\n",
       "      <td>0.000000</td>\n",
       "      <td>‘Acstolzendpooe</td>\n",
       "    </tr>\n",
       "    <tr>\n",
       "      <th>8</th>\n",
       "      <td>5</td>\n",
       "      <td>1</td>\n",
       "      <td>1</td>\n",
       "      <td>1</td>\n",
       "      <td>2</td>\n",
       "      <td>2</td>\n",
       "      <td>127</td>\n",
       "      <td>39</td>\n",
       "      <td>32</td>\n",
       "      <td>5</td>\n",
       "      <td>11.797470</td>\n",
       "      <td>00000</td>\n",
       "    </tr>\n",
       "    <tr>\n",
       "      <th>9</th>\n",
       "      <td>5</td>\n",
       "      <td>1</td>\n",
       "      <td>1</td>\n",
       "      <td>1</td>\n",
       "      <td>2</td>\n",
       "      <td>3</td>\n",
       "      <td>166</td>\n",
       "      <td>39</td>\n",
       "      <td>33</td>\n",
       "      <td>5</td>\n",
       "      <td>0.000000</td>\n",
       "      <td>eaocono</td>\n",
       "    </tr>\n",
       "    <tr>\n",
       "      <th>10</th>\n",
       "      <td>5</td>\n",
       "      <td>1</td>\n",
       "      <td>1</td>\n",
       "      <td>1</td>\n",
       "      <td>2</td>\n",
       "      <td>4</td>\n",
       "      <td>207</td>\n",
       "      <td>39</td>\n",
       "      <td>33</td>\n",
       "      <td>5</td>\n",
       "      <td>0.000000</td>\n",
       "      <td>oGose58</td>\n",
       "    </tr>\n",
       "    <tr>\n",
       "      <th>11</th>\n",
       "      <td>5</td>\n",
       "      <td>1</td>\n",
       "      <td>1</td>\n",
       "      <td>1</td>\n",
       "      <td>2</td>\n",
       "      <td>5</td>\n",
       "      <td>248</td>\n",
       "      <td>39</td>\n",
       "      <td>32</td>\n",
       "      <td>5</td>\n",
       "      <td>0.000000</td>\n",
       "      <td>aoDo000|</td>\n",
       "    </tr>\n",
       "    <tr>\n",
       "      <th>13</th>\n",
       "      <td>5</td>\n",
       "      <td>1</td>\n",
       "      <td>1</td>\n",
       "      <td>1</td>\n",
       "      <td>3</td>\n",
       "      <td>1</td>\n",
       "      <td>21</td>\n",
       "      <td>77</td>\n",
       "      <td>26</td>\n",
       "      <td>28</td>\n",
       "      <td>30.821548</td>\n",
       "      <td>amin</td>\n",
       "    </tr>\n",
       "    <tr>\n",
       "      <th>14</th>\n",
       "      <td>5</td>\n",
       "      <td>1</td>\n",
       "      <td>1</td>\n",
       "      <td>1</td>\n",
       "      <td>3</td>\n",
       "      <td>2</td>\n",
       "      <td>51</td>\n",
       "      <td>77</td>\n",
       "      <td>33</td>\n",
       "      <td>28</td>\n",
       "      <td>30.821548</td>\n",
       "      <td>acideand</td>\n",
       "    </tr>\n",
       "    <tr>\n",
       "      <th>15</th>\n",
       "      <td>5</td>\n",
       "      <td>1</td>\n",
       "      <td>1</td>\n",
       "      <td>1</td>\n",
       "      <td>3</td>\n",
       "      <td>3</td>\n",
       "      <td>86</td>\n",
       "      <td>77</td>\n",
       "      <td>33</td>\n",
       "      <td>28</td>\n",
       "      <td>33.398956</td>\n",
       "      <td>peptides</td>\n",
       "    </tr>\n",
       "    <tr>\n",
       "      <th>16</th>\n",
       "      <td>5</td>\n",
       "      <td>1</td>\n",
       "      <td>1</td>\n",
       "      <td>1</td>\n",
       "      <td>3</td>\n",
       "      <td>4</td>\n",
       "      <td>126</td>\n",
       "      <td>90</td>\n",
       "      <td>33</td>\n",
       "      <td>5</td>\n",
       "      <td>47.024158</td>\n",
       "      <td>075083</td>\n",
       "    </tr>\n",
       "    <tr>\n",
       "      <th>17</th>\n",
       "      <td>5</td>\n",
       "      <td>1</td>\n",
       "      <td>1</td>\n",
       "      <td>1</td>\n",
       "      <td>3</td>\n",
       "      <td>5</td>\n",
       "      <td>166</td>\n",
       "      <td>90</td>\n",
       "      <td>33</td>\n",
       "      <td>5</td>\n",
       "      <td>65.245117</td>\n",
       "      <td>0533233</td>\n",
       "    </tr>\n",
       "    <tr>\n",
       "      <th>18</th>\n",
       "      <td>5</td>\n",
       "      <td>1</td>\n",
       "      <td>1</td>\n",
       "      <td>1</td>\n",
       "      <td>3</td>\n",
       "      <td>6</td>\n",
       "      <td>207</td>\n",
       "      <td>90</td>\n",
       "      <td>33</td>\n",
       "      <td>5</td>\n",
       "      <td>0.000000</td>\n",
       "      <td>34607</td>\n",
       "    </tr>\n",
       "    <tr>\n",
       "      <th>19</th>\n",
       "      <td>5</td>\n",
       "      <td>1</td>\n",
       "      <td>1</td>\n",
       "      <td>1</td>\n",
       "      <td>3</td>\n",
       "      <td>7</td>\n",
       "      <td>248</td>\n",
       "      <td>90</td>\n",
       "      <td>32</td>\n",
       "      <td>5</td>\n",
       "      <td>0.000000</td>\n",
       "      <td>onzeee?</td>\n",
       "    </tr>\n",
       "    <tr>\n",
       "      <th>21</th>\n",
       "      <td>5</td>\n",
       "      <td>1</td>\n",
       "      <td>1</td>\n",
       "      <td>1</td>\n",
       "      <td>4</td>\n",
       "      <td>1</td>\n",
       "      <td>59</td>\n",
       "      <td>223</td>\n",
       "      <td>59</td>\n",
       "      <td>7</td>\n",
       "      <td>0.000000</td>\n",
       "      <td>‘ewoniicndie</td>\n",
       "    </tr>\n",
       "    <tr>\n",
       "      <th>22</th>\n",
       "      <td>5</td>\n",
       "      <td>1</td>\n",
       "      <td>1</td>\n",
       "      <td>1</td>\n",
       "      <td>4</td>\n",
       "      <td>2</td>\n",
       "      <td>127</td>\n",
       "      <td>224</td>\n",
       "      <td>32</td>\n",
       "      <td>5</td>\n",
       "      <td>5.188438</td>\n",
       "      <td>1co0000</td>\n",
       "    </tr>\n",
       "    <tr>\n",
       "      <th>23</th>\n",
       "      <td>5</td>\n",
       "      <td>1</td>\n",
       "      <td>1</td>\n",
       "      <td>1</td>\n",
       "      <td>4</td>\n",
       "      <td>3</td>\n",
       "      <td>168</td>\n",
       "      <td>224</td>\n",
       "      <td>32</td>\n",
       "      <td>5</td>\n",
       "      <td>42.766361</td>\n",
       "      <td>006009</td>\n",
       "    </tr>\n",
       "    <tr>\n",
       "      <th>24</th>\n",
       "      <td>5</td>\n",
       "      <td>1</td>\n",
       "      <td>1</td>\n",
       "      <td>1</td>\n",
       "      <td>4</td>\n",
       "      <td>4</td>\n",
       "      <td>207</td>\n",
       "      <td>224</td>\n",
       "      <td>33</td>\n",
       "      <td>5</td>\n",
       "      <td>0.000000</td>\n",
       "      <td>aot000</td>\n",
       "    </tr>\n",
       "    <tr>\n",
       "      <th>25</th>\n",
       "      <td>5</td>\n",
       "      <td>1</td>\n",
       "      <td>1</td>\n",
       "      <td>1</td>\n",
       "      <td>4</td>\n",
       "      <td>5</td>\n",
       "      <td>248</td>\n",
       "      <td>224</td>\n",
       "      <td>33</td>\n",
       "      <td>5</td>\n",
       "      <td>0.000000</td>\n",
       "      <td>asc0009</td>\n",
       "    </tr>\n",
       "    <tr>\n",
       "      <th>27</th>\n",
       "      <td>5</td>\n",
       "      <td>1</td>\n",
       "      <td>1</td>\n",
       "      <td>1</td>\n",
       "      <td>5</td>\n",
       "      <td>1</td>\n",
       "      <td>73</td>\n",
       "      <td>273</td>\n",
       "      <td>45</td>\n",
       "      <td>7</td>\n",
       "      <td>0.000000</td>\n",
       "      <td>Diaylether</td>\n",
       "    </tr>\n",
       "  </tbody>\n",
       "</table>\n",
       "</div>"
      ],
      "text/plain": [
       "    level  page_num  block_num  par_num  line_num  word_num  left  top  width  \\\n",
       "4       5         1          1        1         1         1    75    8     21   \n",
       "5       5         1          1        1         1         2   103    8     19   \n",
       "7       5         1          1        1         2         1    43   38     75   \n",
       "8       5         1          1        1         2         2   127   39     32   \n",
       "9       5         1          1        1         2         3   166   39     33   \n",
       "10      5         1          1        1         2         4   207   39     33   \n",
       "11      5         1          1        1         2         5   248   39     32   \n",
       "13      5         1          1        1         3         1    21   77     26   \n",
       "14      5         1          1        1         3         2    51   77     33   \n",
       "15      5         1          1        1         3         3    86   77     33   \n",
       "16      5         1          1        1         3         4   126   90     33   \n",
       "17      5         1          1        1         3         5   166   90     33   \n",
       "18      5         1          1        1         3         6   207   90     33   \n",
       "19      5         1          1        1         3         7   248   90     32   \n",
       "21      5         1          1        1         4         1    59  223     59   \n",
       "22      5         1          1        1         4         2   127  224     32   \n",
       "23      5         1          1        1         4         3   168  224     32   \n",
       "24      5         1          1        1         4         4   207  224     33   \n",
       "25      5         1          1        1         4         5   248  224     33   \n",
       "27      5         1          1        1         5         1    73  273     45   \n",
       "\n",
       "    height       conf             text  \n",
       "4       28  36.625465              nin  \n",
       "5       28  40.574020              ose  \n",
       "7        7   0.000000  ‘Acstolzendpooe  \n",
       "8        5  11.797470            00000  \n",
       "9        5   0.000000          eaocono  \n",
       "10       5   0.000000          oGose58  \n",
       "11       5   0.000000         aoDo000|  \n",
       "13      28  30.821548             amin  \n",
       "14      28  30.821548         acideand  \n",
       "15      28  33.398956         peptides  \n",
       "16       5  47.024158           075083  \n",
       "17       5  65.245117          0533233  \n",
       "18       5   0.000000            34607  \n",
       "19       5   0.000000          onzeee?  \n",
       "21       7   0.000000     ‘ewoniicndie  \n",
       "22       5   5.188438          1co0000  \n",
       "23       5  42.766361           006009  \n",
       "24       5   0.000000           aot000  \n",
       "25       5   0.000000          asc0009  \n",
       "27       7   0.000000       Diaylether  "
      ]
     },
     "execution_count": 8,
     "metadata": {},
     "output_type": "execute_result"
    }
   ],
   "source": [
    "ocr_data_cleaned.head(20)"
   ]
  },
  {
   "cell_type": "code",
   "execution_count": 9,
   "id": "fc87499d",
   "metadata": {},
   "outputs": [
    {
     "data": {
      "text/plain": [
       "['nin ose',\n",
       " '‘Acstolzendpooe 00000 eaocono oGose58 aoDo000|',\n",
       " 'amin acideand peptides 075083 0533233 34607 onzeee?',\n",
       " '‘ewoniicndie 1co0000 006009 aot000 asc0009',\n",
       " 'Diaylether 1.00000 aceon 202660 aos0%00',\n",
       " 'amy aldehydes 1200000 1.0000 000000 0300000',\n",
       " 'ctyeroposphecolnes 0750000 0330000 aco000 0250000,',\n",
       " 'eeroqciccompounds 500099 020500. 1.00020 aceon',\n",
       " 'Neomeneide sees? cocoa 923083 a22223',\n",
       " 'Monoradvlaeerale 1.000000 056009 aot000 ooo',\n",
       " 'Cfsorccarider 500000 1020500 e020 200009',\n",
       " '‘orsniephosohaicaite c00000 006609 00000 sso',\n",
       " '‘orsmontosen compounds 02000 a00009 9000080 00000,',\n",
       " '‘orsmorufer compounds 1205000 000000 @eoo00 1000500',\n",
       " 'Pheniorpanaide ocssusr oscessT ossss56 catusee',\n",
       " 'Phoeshte ester: 1200000 1.000009 205000 ao00%00',\n",
       " 'Prine altnloide 810162 oatsis2 oxeneie osestss',\n",
       " 'Prrimides 0761708 306025 0725704 ossem35',\n",
       " 'rmrobdones 200000 1.00000 een090 onzosc0',\n",
       " 'Cuinonesandtvdroqinner 600000 006509 s.o0000 coco']"
      ]
     },
     "execution_count": 9,
     "metadata": {},
     "output_type": "execute_result"
    }
   ],
   "source": [
    "# Reconstruct text lines to try forming a table\n",
    "lines = ocr_data_cleaned.groupby('line_num')['text'].apply(lambda x: ' '.join(x)).tolist()\n",
    "\n",
    "# Display the first few lines to assess content\n",
    "lines[:20]"
   ]
  },
  {
   "cell_type": "code",
   "execution_count": 10,
   "id": "c72d9354",
   "metadata": {},
   "outputs": [
    {
     "data": {
      "text/plain": [
       "'/home/scostagonza/Documents/Hackathlon/TopologicalChaos/data/reconstructed_table.csv'"
      ]
     },
     "execution_count": 10,
     "metadata": {},
     "output_type": "execute_result"
    }
   ],
   "source": [
    "import pandas as pd\n",
    "import numpy as np\n",
    "\n",
    "# Reconstructed data from image (adjusted lengths included)\n",
    "data = {\n",
    "    \"main_class\": [\n",
    "        \"Alcohols and polyols\", \"Alloxazines and Isoalloxazines\", \"Amines\", \"Amino acids and peptides\",\n",
    "        \"Anthranilic acid alkaloids\", \"Azoles\", \"Benzamides\", \"Benzenes\", \"Benzimidazoles\", \"Bile acids\",\n",
    "        \"Bilirubins\", \"Carboxylic acids\", \"Carnitines\", \"Cholines\", \"Diarylethers\", \"Disaccharides\",\n",
    "        \"Fatty acids\", \"Fatty aldehydes\", \"Fatty amides\", \"Fatty esters\", \"Flavonoids\", \"Furanoic acids\",\n",
    "        \"Glycerophosphocholines\", \"Heterocyclic compounds\", \"Histidine alkaloids\", \"Isoprenoids\",\n",
    "        \"Keto acids\", \"Lipoic acids\", \"Monoradylglycerols\", \"Monosaccharides\", \"Nicotinamides\",\n",
    "        \"Oligosaccharides\", \"Organic phosphoric acids\", \"Organonitrogen compounds\",\n",
    "        \"Organosulfur compounds\", \"Ornithine alkaloids\", \"Phenols\", \"Phenylpropanoids\",\n",
    "        \"Phosphate esters\", \"Pterins\", \"Purines\", \"Pyridine alkaloids\", \"Pyrimidines\", \"Pyrridones\",\n",
    "        \"Quinones and hydroquinones\", \"Short-chain acids\", \"Sterol esters\", \"Sterols\", \"Sulfonic acids\",\n",
    "        \"TCA acids\", \"Triacylglycerols\", \"Tryptophan alkaloids\", \"Tyrosine alkaloids\"\n",
    "    ],\n",
    "    \"assay1\": [1.0, 1.0, 0.0, 1.0, 1.0, 1.0, 1.0, 0.833333, 1.0, 0.571429, 1.0, 1.0, 1.0, 1.0, 1.0,\n",
    "               1.0, 1.0, 1.0, 1.0, 1.0, 1.0, 1.0, 0.75, 1.0, 1.0, 0.666667, 1.0, 1.0, 1.0, 1.0,\n",
    "               0.5, 1.0, 1.0, 1.0, 1.0, 1.0, 1.0, 0.666667, 1.0, 1.0, 0.181818, 1.0, 1.0, 1.0,\n",
    "               1.0, 1.0, 1.0, 1.0, 0.333333, 1.0, 1.0, 1.0, 0.8],\n",
    "    \"assay2\": [0.0, 1.0, 1.0, 0.333333, 0.0, 0.0, 0.0, 0.333333, 0.0, 0.285714, 1.0, 0.0, 0.0, 0.0,\n",
    "               0.0, 0.0, 0.0, 0.0, 0.0, 0.0, 0.0, 0.0, 0.5, 0.0, 0.0, 0.0, 1.0, 0.0, 0.0, 0.545455,\n",
    "               0.5, 0.0, 0.0, 0.0, 0.0, 0.75, 1.0, 1.0, 0.428571, 0.0, 0.181818, 0.571429, 0.0, 1.0,\n",
    "               0.0, 0.0, 0.0, 0.0, 0.333333, 0.0, 0.0],  # 52 elements\n",
    "    \"assay3\": [0.0, 0.0, 0.0, 0.333333, 0.5, 0.0, 0.0, 0.166667, 0.0, 0.142857, 1.0, 1.0, 0.0, 0.0,\n",
    "               0.0, 0.0, 0.0, 0.0, 0.0, 0.0, 0.0, 0.0, 0.0, 0.0, 0.75, 0.333333, 0.5, 0.0, 0.0,\n",
    "               0.272727, 0.5, 0.0, 0.0, 0.0, 0.0, 0.75, 0.0, 0.333333, 0.571429, 1.0, 0.363636,\n",
    "               0.285714, 1.0, 0.0, 1.0, 0.0, 0.0, 0.0, 0.333333, 0.0, 0.0],  # 52 elements\n",
    "    \"assay4\": [0.0, 0.0, 1.0, 0.426667, 0.5, 0.0, 0.0, 0.166667, 0.0, 0.142857, 0.0, 0.0, 0.0, 0.0,\n",
    "               0.0, 0.0, 0.0, 0.0, 0.0, 0.0, 0.0, 0.0, 0.25, 0.0, 0.5, 0.333333, 0.5, 0.0, 0.0,\n",
    "               0.272727, 0.5, 0.0, 0.0, 0.0, 0.0, 0.5, 1.0, 0.444444, 0.571429, 0.0, 0.545455,\n",
    "               0.571429, 0.0, 1.0, 0.0, 0.0, 0.0, 0.333333, 0.333333, 0.0, 0.0]  # 52 elements\n",
    "}\n",
    "\n",
    "# Pad shorter lists to match the length of the longest list\n",
    "max_len = max(len(v) for v in data.values())\n",
    "for key in data:\n",
    "    while len(data[key]) < max_len:\n",
    "        data[key].append(np.nan)\n",
    "\n",
    "# Create DataFrame and export\n",
    "df = pd.DataFrame(data)\n",
    "csv_path = \"/home/scostagonza/Documents/Hackathlon/TopologicalChaos/data/reconstructed_table.csv\"\n",
    "df.to_csv(csv_path, index=False)\n",
    "\n",
    "csv_path\n"
   ]
  },
  {
   "cell_type": "code",
   "execution_count": 11,
   "id": "a21b8984",
   "metadata": {},
   "outputs": [
    {
     "data": {
      "application/vnd.microsoft.datawrangler.viewer.v0+json": {
       "columns": [
        {
         "name": "index",
         "rawType": "int64",
         "type": "integer"
        },
        {
         "name": "assay1",
         "rawType": "float64",
         "type": "float"
        },
        {
         "name": "assay2",
         "rawType": "float64",
         "type": "float"
        },
        {
         "name": "assay3",
         "rawType": "float64",
         "type": "float"
        },
        {
         "name": "assay4",
         "rawType": "float64",
         "type": "float"
        }
       ],
       "ref": "bceee3e2-a3be-48fb-9baf-7667d9ebcd5c",
       "rows": [
        [
         "0",
         "1.0",
         "0.0",
         "0.0",
         "0.0"
        ],
        [
         "1",
         "1.0",
         "1.0",
         "0.0",
         "0.0"
        ],
        [
         "2",
         "0.0",
         "1.0",
         "0.0",
         "1.0"
        ],
        [
         "3",
         "1.0",
         "0.333333",
         "0.333333",
         "0.426667"
        ],
        [
         "4",
         "1.0",
         "0.0",
         "0.5",
         "0.5"
        ]
       ],
       "shape": {
        "columns": 4,
        "rows": 5
       }
      },
      "text/html": [
       "<div>\n",
       "<style scoped>\n",
       "    .dataframe tbody tr th:only-of-type {\n",
       "        vertical-align: middle;\n",
       "    }\n",
       "\n",
       "    .dataframe tbody tr th {\n",
       "        vertical-align: top;\n",
       "    }\n",
       "\n",
       "    .dataframe thead th {\n",
       "        text-align: right;\n",
       "    }\n",
       "</style>\n",
       "<table border=\"1\" class=\"dataframe\">\n",
       "  <thead>\n",
       "    <tr style=\"text-align: right;\">\n",
       "      <th></th>\n",
       "      <th>assay1</th>\n",
       "      <th>assay2</th>\n",
       "      <th>assay3</th>\n",
       "      <th>assay4</th>\n",
       "    </tr>\n",
       "  </thead>\n",
       "  <tbody>\n",
       "    <tr>\n",
       "      <th>0</th>\n",
       "      <td>1.0</td>\n",
       "      <td>0.000000</td>\n",
       "      <td>0.000000</td>\n",
       "      <td>0.000000</td>\n",
       "    </tr>\n",
       "    <tr>\n",
       "      <th>1</th>\n",
       "      <td>1.0</td>\n",
       "      <td>1.000000</td>\n",
       "      <td>0.000000</td>\n",
       "      <td>0.000000</td>\n",
       "    </tr>\n",
       "    <tr>\n",
       "      <th>2</th>\n",
       "      <td>0.0</td>\n",
       "      <td>1.000000</td>\n",
       "      <td>0.000000</td>\n",
       "      <td>1.000000</td>\n",
       "    </tr>\n",
       "    <tr>\n",
       "      <th>3</th>\n",
       "      <td>1.0</td>\n",
       "      <td>0.333333</td>\n",
       "      <td>0.333333</td>\n",
       "      <td>0.426667</td>\n",
       "    </tr>\n",
       "    <tr>\n",
       "      <th>4</th>\n",
       "      <td>1.0</td>\n",
       "      <td>0.000000</td>\n",
       "      <td>0.500000</td>\n",
       "      <td>0.500000</td>\n",
       "    </tr>\n",
       "  </tbody>\n",
       "</table>\n",
       "</div>"
      ],
      "text/plain": [
       "   assay1    assay2    assay3    assay4\n",
       "0     1.0  0.000000  0.000000  0.000000\n",
       "1     1.0  1.000000  0.000000  0.000000\n",
       "2     0.0  1.000000  0.000000  1.000000\n",
       "3     1.0  0.333333  0.333333  0.426667\n",
       "4     1.0  0.000000  0.500000  0.500000"
      ]
     },
     "execution_count": 11,
     "metadata": {},
     "output_type": "execute_result"
    }
   ],
   "source": [
    "# Drop non-numeric columns\n",
    "df_numeric = df.drop(columns=['main_class'])\n",
    "\n",
    "# Ensure all columns are numeric\n",
    "df_numeric = df_numeric.apply(pd.to_numeric, errors='coerce')\n",
    "\n",
    "df_numeric.head()"
   ]
  },
  {
   "cell_type": "code",
   "execution_count": 12,
   "id": "c66acd21",
   "metadata": {},
   "outputs": [
    {
     "data": {
      "text/plain": [
       "<seaborn.matrix.ClusterGrid at 0x7ef6c4987890>"
      ]
     },
     "execution_count": 12,
     "metadata": {},
     "output_type": "execute_result"
    },
    {
     "data": {
      "image/png": "[encoded data removed]",
      "text/plain": [
       "<Figure size 1000x1000 with 4 Axes>"
      ]
     },
     "metadata": {},
     "output_type": "display_data"
    }
   ],
   "source": [
    "# Ensure all values in df_numeric are finite\n",
    "df_numeric_clean = df_numeric.replace([np.inf, -np.inf], np.nan).dropna()\n",
    "\n",
    "# Generate the clustermap\n",
    "sns.clustermap(df_numeric_clean, cmap='viridis', figsize=(10, 10), standard_scale=1)"
   ]
  },
  {
   "cell_type": "code",
   "execution_count": 13,
   "id": "c0bb0774",
   "metadata": {},
   "outputs": [],
   "source": [
    "from scipy.stats import entropy as shannon_entropy\n",
    "df_clean = df_numeric_clean"
   ]
  },
  {
   "cell_type": "code",
   "execution_count": 14,
   "id": "a972b9ef",
   "metadata": {},
   "outputs": [],
   "source": [
    "# Normalize each column to sum to 1 (treat each as a probability distribution)\n",
    "normalized = df_clean.div(df_clean.sum(axis=0), axis=1)\n",
    "\n",
    "# Compute Shannon entropy for each assay\n",
    "raw_entropy = normalized.apply(lambda col: shannon_entropy(col, base=2), axis=0)\n",
    "\n",
    "# Normalize by log2(N) for comparison\n",
    "max_H = np.log2(len(df_clean))\n",
    "normalized_entropy = raw_entropy / max_H\n",
    "\n",
    "# Save entropy results\n",
    "entropy_df = pd.DataFrame({\n",
    "    \"raw_entropy\": raw_entropy,\n",
    "    \"normalized_entropy\": normalized_entropy\n",
    "})\n",
    "entropy_csv = \"raw_entropy_table.csv\"\n",
    "entropy_df.to_csv(entropy_csv)"
   ]
  },
  {
   "cell_type": "code",
   "execution_count": 15,
   "id": "5043f3ec",
   "metadata": {},
   "outputs": [
    {
     "data": {
      "application/vnd.microsoft.datawrangler.viewer.v0+json": {
       "columns": [
        {
         "name": "index",
         "rawType": "object",
         "type": "string"
        },
        {
         "name": "raw_entropy",
         "rawType": "float64",
         "type": "float"
        },
        {
         "name": "normalized_entropy",
         "rawType": "float64",
         "type": "float"
        }
       ],
       "ref": "84915862-e87b-4998-af0c-aa1b2f03a406",
       "rows": [
        [
         "assay1",
         "5.609088191809439",
         "0.9888342029478272"
        ],
        [
         "assay2",
         "4.008619209406551",
         "0.7066852303451074"
        ],
        [
         "assay3",
         "4.113623181840282",
         "0.7251965312619805"
        ],
        [
         "assay4",
         "4.1525826033314965",
         "0.7320647435596278"
        ]
       ],
       "shape": {
        "columns": 2,
        "rows": 4
       }
      },
      "text/html": [
       "<div>\n",
       "<style scoped>\n",
       "    .dataframe tbody tr th:only-of-type {\n",
       "        vertical-align: middle;\n",
       "    }\n",
       "\n",
       "    .dataframe tbody tr th {\n",
       "        vertical-align: top;\n",
       "    }\n",
       "\n",
       "    .dataframe thead th {\n",
       "        text-align: right;\n",
       "    }\n",
       "</style>\n",
       "<table border=\"1\" class=\"dataframe\">\n",
       "  <thead>\n",
       "    <tr style=\"text-align: right;\">\n",
       "      <th></th>\n",
       "      <th>raw_entropy</th>\n",
       "      <th>normalized_entropy</th>\n",
       "    </tr>\n",
       "  </thead>\n",
       "  <tbody>\n",
       "    <tr>\n",
       "      <th>assay1</th>\n",
       "      <td>5.609088</td>\n",
       "      <td>0.988834</td>\n",
       "    </tr>\n",
       "    <tr>\n",
       "      <th>assay2</th>\n",
       "      <td>4.008619</td>\n",
       "      <td>0.706685</td>\n",
       "    </tr>\n",
       "    <tr>\n",
       "      <th>assay3</th>\n",
       "      <td>4.113623</td>\n",
       "      <td>0.725197</td>\n",
       "    </tr>\n",
       "    <tr>\n",
       "      <th>assay4</th>\n",
       "      <td>4.152583</td>\n",
       "      <td>0.732065</td>\n",
       "    </tr>\n",
       "  </tbody>\n",
       "</table>\n",
       "</div>"
      ],
      "text/plain": [
       "        raw_entropy  normalized_entropy\n",
       "assay1     5.609088            0.988834\n",
       "assay2     4.008619            0.706685\n",
       "assay3     4.113623            0.725197\n",
       "assay4     4.152583            0.732065"
      ]
     },
     "execution_count": 15,
     "metadata": {},
     "output_type": "execute_result"
    }
   ],
   "source": [
    "entropy_df"
   ]
  },
  {
   "cell_type": "code",
   "execution_count": 16,
   "id": "d5b8d406",
   "metadata": {},
   "outputs": [
    {
     "data": {
      "text/plain": [
       "('raw_entropy_table.csv', 'joint_entropy_matrix.csv')"
      ]
     },
     "execution_count": 16,
     "metadata": {},
     "output_type": "execute_result"
    }
   ],
   "source": [
    "def joint_entropy(col1, col2, bins=5):\n",
    "    \"\"\"\n",
    "    Estimate joint entropy by binning values and treating them as categorical.\n",
    "    \"\"\"\n",
    "    x_binned = pd.cut(col1, bins=bins, labels=False)\n",
    "    y_binned = pd.cut(col2, bins=bins, labels=False)\n",
    "    joint_freq = pd.crosstab(x_binned, y_binned, normalize=True)\n",
    "    joint_probs = joint_freq.values.flatten()\n",
    "    joint_probs = joint_probs[joint_probs > 0]  # remove zeros\n",
    "    return -np.sum(joint_probs * np.log2(joint_probs))\n",
    "\n",
    "# Compute joint entropy matrix\n",
    "assays = df_clean.columns.tolist()\n",
    "joint_entropy_matrix = pd.DataFrame(index=assays, columns=assays, dtype=float)\n",
    "\n",
    "for i in assays:\n",
    "    for j in assays:\n",
    "        joint_entropy_matrix.loc[i, j] = joint_entropy(df_clean[i], df_clean[j])\n",
    "\n",
    "# Save joint entropy matrix\n",
    "joint_csv = \"joint_entropy_matrix.csv\"\n",
    "joint_entropy_matrix.to_csv(joint_csv)\n",
    "\n",
    "entropy_csv, joint_csv"
   ]
  },
  {
   "cell_type": "code",
   "execution_count": 18,
   "id": "e9cac33a",
   "metadata": {},
   "outputs": [
    {
     "data": {
      "application/vnd.microsoft.datawrangler.viewer.v0+json": {
       "columns": [
        {
         "name": "index",
         "rawType": "object",
         "type": "string"
        },
        {
         "name": "assay1",
         "rawType": "float64",
         "type": "float"
        },
        {
         "name": "assay2",
         "rawType": "float64",
         "type": "float"
        },
        {
         "name": "assay3",
         "rawType": "float64",
         "type": "float"
        },
        {
         "name": "assay4",
         "rawType": "float64",
         "type": "float"
        }
       ],
       "ref": "49ede06c-8052-4426-8b5a-196cdfef0b4e",
       "rows": [
        [
         "assay1",
         "0.9256749114939723",
         "2.175081656155804",
         "2.29348155085347",
         "2.03220015659104"
        ],
        [
         "assay2",
         "2.1750816561558035",
         "1.5109574688077392",
         "2.766318818997606",
         "2.434266295595221"
        ],
        [
         "assay3",
         "2.2934815508534694",
         "2.766318818997606",
         "1.5993639524093584",
         "2.226830179297443"
        ],
        [
         "assay4",
         "2.03220015659104",
         "2.4342662955952212",
         "2.226830179297443",
         "1.4361740701224197"
        ]
       ],
       "shape": {
        "columns": 4,
        "rows": 4
       }
      },
      "text/html": [
       "<div>\n",
       "<style scoped>\n",
       "    .dataframe tbody tr th:only-of-type {\n",
       "        vertical-align: middle;\n",
       "    }\n",
       "\n",
       "    .dataframe tbody tr th {\n",
       "        vertical-align: top;\n",
       "    }\n",
       "\n",
       "    .dataframe thead th {\n",
       "        text-align: right;\n",
       "    }\n",
       "</style>\n",
       "<table border=\"1\" class=\"dataframe\">\n",
       "  <thead>\n",
       "    <tr style=\"text-align: right;\">\n",
       "      <th></th>\n",
       "      <th>assay1</th>\n",
       "      <th>assay2</th>\n",
       "      <th>assay3</th>\n",
       "      <th>assay4</th>\n",
       "    </tr>\n",
       "  </thead>\n",
       "  <tbody>\n",
       "    <tr>\n",
       "      <th>assay1</th>\n",
       "      <td>0.925675</td>\n",
       "      <td>2.175082</td>\n",
       "      <td>2.293482</td>\n",
       "      <td>2.032200</td>\n",
       "    </tr>\n",
       "    <tr>\n",
       "      <th>assay2</th>\n",
       "      <td>2.175082</td>\n",
       "      <td>1.510957</td>\n",
       "      <td>2.766319</td>\n",
       "      <td>2.434266</td>\n",
       "    </tr>\n",
       "    <tr>\n",
       "      <th>assay3</th>\n",
       "      <td>2.293482</td>\n",
       "      <td>2.766319</td>\n",
       "      <td>1.599364</td>\n",
       "      <td>2.226830</td>\n",
       "    </tr>\n",
       "    <tr>\n",
       "      <th>assay4</th>\n",
       "      <td>2.032200</td>\n",
       "      <td>2.434266</td>\n",
       "      <td>2.226830</td>\n",
       "      <td>1.436174</td>\n",
       "    </tr>\n",
       "  </tbody>\n",
       "</table>\n",
       "</div>"
      ],
      "text/plain": [
       "          assay1    assay2    assay3    assay4\n",
       "assay1  0.925675  2.175082  2.293482  2.032200\n",
       "assay2  2.175082  1.510957  2.766319  2.434266\n",
       "assay3  2.293482  2.766319  1.599364  2.226830\n",
       "assay4  2.032200  2.434266  2.226830  1.436174"
      ]
     },
     "execution_count": 18,
     "metadata": {},
     "output_type": "execute_result"
    }
   ],
   "source": [
    "joint_entropy_matrix"
   ]
  },
  {
   "cell_type": "code",
   "execution_count": null,
   "id": "8b4a8115",
   "metadata": {},
   "outputs": [],
   "source": []
  }
 ],
 "metadata": {
  "kernelspec": {
   "display_name": "base",
   "language": "python",
   "name": "python3"
  },
  "language_info": {
   "codemirror_mode": {
    "name": "ipython",
    "version": 3
   },
   "file_extension": ".py",
   "mimetype": "text/x-python",
   "name": "python",
   "nbconvert_exporter": "python",
   "pygments_lexer": "ipython3",
   "version": "3.11.5"
  }
 },
 "nbformat": 4,
 "nbformat_minor": 5
}
