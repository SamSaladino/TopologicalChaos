{
 "cells": [
  {
   "cell_type": "code",
   "execution_count": null,
   "id": "9996c5e9",
   "metadata": {},
   "outputs": [
    {
     "ename": "ModuleNotFoundError",
     "evalue": "No module named 'ace_tools'",
     "output_type": "error",
     "traceback": [
      "\u001b[0;31m---------------------------------------------------------------------------\u001b[0m",
      "\u001b[0;31mModuleNotFoundError\u001b[0m                       Traceback (most recent call last)",
      "Cell \u001b[0;32mIn[1], line 49\u001b[0m\n\u001b[1;32m     47\u001b[0m \u001b[38;5;66;03m# Display as a DataFrame\u001b[39;00m\n\u001b[1;32m     48\u001b[0m df_support \u001b[38;5;241m=\u001b[39m pd\u001b[38;5;241m.\u001b[39mDataFrame(results)\n\u001b[0;32m---> 49\u001b[0m \u001b[38;5;28;01mimport\u001b[39;00m \u001b[38;5;21;01mace_tools\u001b[39;00m \u001b[38;5;28;01mas\u001b[39;00m \u001b[38;5;21;01mtools\u001b[39;00m; tools\u001b[38;5;241m.\u001b[39mdisplay_dataframe_to_user(name\u001b[38;5;241m=\u001b[39m\u001b[38;5;124m\"\u001b[39m\u001b[38;5;124mMethod Comparison: Neighborhood Support\u001b[39m\u001b[38;5;124m\"\u001b[39m, dataframe\u001b[38;5;241m=\u001b[39mdf_support)\n",
      "\u001b[0;31mModuleNotFoundError\u001b[0m: No module named 'ace_tools'"
     ]
    }
   ],
   "source": [
    "import networkx as nx\n",
    "import pandas as pd\n",
    "import ace_tools as tools\n",
    "\n",
    "# Simulated metabolic graph (undirected for simplicity)\n",
    "G = nx.Graph()\n",
    "\n",
    "# Add metabolites as nodes\n",
    "metabolites = [f\"M{i}\" for i in range(1, 21)]\n",
    "G.add_nodes_from(metabolites)\n",
    "\n",
    "# Add edges (representing shared reactions or pathway adjacency)\n",
    "edges = [\n",
    "    (\"M1\", \"M2\"), (\"M2\", \"M3\"), (\"M3\", \"M4\"), (\"M4\", \"M5\"),\n",
    "    (\"M5\", \"M6\"), (\"M7\", \"M8\"), (\"M8\", \"M9\"), (\"M10\", \"M11\"),\n",
    "    (\"M11\", \"M12\"), (\"M12\", \"M13\"), (\"M14\", \"M15\"), (\"M15\", \"M16\"),\n",
    "    (\"M16\", \"M17\"), (\"M17\", \"M18\"), (\"M18\", \"M19\"), (\"M19\", \"M20\"),\n",
    "]\n",
    "G.add_edges_from(edges)\n",
    "\n",
    "# Example observed metabolite sets from different methods/devices\n",
    "observed_methods = {\n",
    "    \"Device_A\": {\"M1\", \"M3\", \"M5\", \"M7\", \"M9\", \"M11\", \"M13\", \"M15\", \"M17\", \"M19\"},\n",
    "    \"Device_B\": {\"M2\", \"M3\", \"M4\", \"M6\", \"M8\", \"M10\", \"M12\", \"M14\", \"M16\", \"M18\", \"M20\"}\n",
    "}\n",
    "\n",
    "# Compute neighborhood support per observed metabolite for each method\n",
    "results = []\n",
    "\n",
    "for method, observed in observed_methods.items():\n",
    "    support_scores = []\n",
    "    for m in observed:\n",
    "        neighbors = list(G.neighbors(m))\n",
    "        observed_neighbors = [n for n in neighbors if n in observed]\n",
    "        support_scores.append(len(observed_neighbors))\n",
    "    \n",
    "    avg_support = sum(support_scores) / len(support_scores) if support_scores else 0\n",
    "    non_isolated = sum(1 for s in support_scores if s > 0)\n",
    "    percent_supported = 100 * non_isolated / len(support_scores) if support_scores else 0\n",
    "    \n",
    "    results.append({\n",
    "        \"Method\": method,\n",
    "        \"Observed_Metabolites\": len(observed),\n",
    "        \"Avg_Neighbor_Support\": avg_support,\n",
    "        \"% With ≥1 Observed Neighbor\": percent_supported\n",
    "    })\n",
    "\n",
    "# Display as a DataFrame\n",
    "df_support = pd.DataFrame(results)\n",
    "tools.display_dataframe_to_user(name=\"Method Comparison: Neighborhood Support\", dataframe=df_support)"
   ]
  },
  {
   "cell_type": "code",
   "execution_count": null,
   "id": "4a84dbe3",
   "metadata": {},
   "outputs": [],
   "source": [
    "pd.read_csv('')"
   ]
  }
 ],
 "metadata": {
  "kernelspec": {
   "display_name": "base",
   "language": "python",
   "name": "python3"
  },
  "language_info": {
   "codemirror_mode": {
    "name": "ipython",
    "version": 3
   },
   "file_extension": ".py",
   "mimetype": "text/x-python",
   "name": "python",
   "nbconvert_exporter": "python",
   "pygments_lexer": "ipython3",
   "version": "3.11.5"
  }
 },
 "nbformat": 4,
 "nbformat_minor": 5
}
